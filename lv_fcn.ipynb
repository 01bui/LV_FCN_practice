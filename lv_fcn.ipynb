{
 "cells": [
  {
   "cell_type": "code",
   "execution_count": null,
   "metadata": {
    "collapsed": true
   },
   "outputs": [],
   "source": [
    "import dicom, lmdb, cv2, re, sys\n",
    "import os, fnmatch, shutil, subprocess\n",
    "from IPython.utils import io\n",
    "import numpy as np\n",
    "np.random.seed(1234)\n",
    "import matplotlib.pyplot as plt\n",
    "%matplotlib inline\n",
    "import warnings\n",
    "warnings.filterwarnings('ignore') # we ignore a RuntimeWarning produced from dividing by zero\n",
    "\n",
    "CAFFE_ROOT = \"/path/to/caffe_FCN/\"\n",
    "caffe_path = os.path.join(CAFFE_ROOT, \"python\")\n",
    "if caffe_path not in sys.path:\n",
    "    sys.path.insert(0, caffe_path)\n",
    "\n",
    "import caffe\n",
    "\n",
    "print(\"\\nSuccessfully imported packages, hooray!\\n\")\n"
   ]
  }
 ],
 "metadata": {
  "kernelspec": {
   "display_name": "Python 2",
   "language": "python",
   "name": "python2"
  }
 },
 "nbformat": 4,
 "nbformat_minor": 0
}
